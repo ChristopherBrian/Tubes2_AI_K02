{
 "cells": [
  {
   "cell_type": "markdown",
   "metadata": {
    "id": "uR1JW69eLfG_"
   },
   "source": [
    "# IF3170 Artificial Intelligence | Tugas Besar 2\n",
    "\n",
    "This notebook serves as a template for the assignment. Please create a copy of this notebook to complete your work. You can add more code blocks, markdown blocks, or new sections if needed.\n"
   ]
  },
  {
   "cell_type": "markdown",
   "metadata": {
    "id": "ucbaI5rBLtjJ"
   },
   "source": [
    "Group Number: 04\n",
    "\n",
    "Group Members:\n",
    "- Muhamad Rafli Rasyiidin (13522088)\n",
    "- Julian Caleb Simandjuntak (13522099)\n",
    "- Christopher Brian (13522106)\n",
    "- Indraswara Galih Jayanegara (13522119)"
   ]
  },
  {
   "cell_type": "markdown",
   "metadata": {
    "id": "GwzsfETHLfHA"
   },
   "source": [
    "## Import Libraries"
   ]
  },
  {
   "cell_type": "code",
   "execution_count": null,
   "metadata": {
    "id": "jZJU5W_4LfHB"
   },
   "outputs": [],
   "source": [
    "import pandas as pd\n",
    "import numpy as np\n",
    "import matplotlib.pyplot as plt\n",
    "import seaborn as sns\n",
    "import scipy.stats as stats\n",
    "from sklearn.model_selection import train_test_split, KFold\n",
    "from sklearn.impute import SimpleImputer\n",
    "from sklearn.base import BaseEstimator, TransformerMixin\n",
    "from sklearn.pipeline import Pipeline\n",
    "from sklearn.neighbors import KNeighborsClassifier\n",
    "from sklearn.preprocessing import StandardScaler, MinMaxScaler, LabelEncoder\n",
    "from sklearn.metrics import accuracy_score"
   ]
  },
  {
   "cell_type": "markdown",
   "metadata": {
    "id": "OKbjLIdYLfHC"
   },
   "source": [
    "## Import Dataset"
   ]
  },
  {
   "cell_type": "code",
   "execution_count": null,
   "metadata": {
    "id": "-IWFJ-gdLfHD"
   },
   "outputs": [],
   "source": [
    "# Example of reading a csv file from a gdrive link\n",
    "\n",
    "# Take the file id from the gdrive file url\n",
    "# https://drive.google.com/file/d/1ZUtiaty9RPXhpz5F2Sy3dFPHF4YIt5iU/view?usp=sharing => The file id is 1ZUtiaty9RPXhpz5F2Sy3dFPHF4YIt5iU\n",
    "# and then put it in this format:\n",
    "# https://drive.google.com/uc?id={file_id}\n",
    "# Don't forget to change the access to public\n",
    "\n",
    "# Selalu tampilkan semua kolom pada output\n",
    "pd.set_option('display.max_columns', None)\n",
    "\n",
    "# Import file csv train\n",
    "additional_features_train = pd.read_csv('https://drive.google.com/uc?id=1nC3zLlKlUdDZCFqQCa5mdtJLc4h-kXK9')\n",
    "basic_features_train = pd.read_csv('https://drive.google.com/uc?id=1kyqx2WrYUHV0P74SWx_GUTpmmVTG1pw1')\n",
    "flow_features_train = pd.read_csv('https://drive.google.com/uc?id=1k4ovJ8w8ZHtBV_XOp1WFPVolheWoHSmh')\n",
    "content_features_train = pd.read_csv('https://drive.google.com/uc?id=1XP-QOpMFnFPjSIsLFA6xtovVcV1Viyft')\n",
    "time_features_train = pd.read_csv('https://drive.google.com/uc?id=1QnNviNpoKggFeuzFQAWjU-FlfobRDCDm')\n",
    "labels_train = pd.read_csv('https://drive.google.com/uc?id=14hflzUn7iYPJCwsOwDKjGEp7ZP1HtzY8')\n",
    "\n",
    "# Gabungkan semua dataframe menjadi satu dataframe\n",
    "df_combined = pd.concat([additional_features_train, basic_features_train, flow_features_train, content_features_train, time_features_train, labels_train], axis = 1)\n",
    "\n",
    "# Hilangkan atribut id yang duplikat (ada di semua file)\n",
    "df_combined = df_combined.loc[:, ~df_combined.columns.duplicated()]"
   ]
  },
  {
   "cell_type": "markdown",
   "metadata": {
    "id": "YdSor5sdIYGs"
   },
   "source": [
    "# Exploratory Data Analysis (Optional)\n",
    "\n",
    "Exploratory Data Analysis (EDA) is a crucial step in the data analysis process that involves examining and visualizing data sets to uncover patterns, trends, anomalies, and insights. It is the first step before applying more advanced statistical and machine learning techniques. EDA helps you to gain a deep understanding of the data you are working with, allowing you to make informed decisions and formulate hypotheses for further analysis."
   ]
  },
  {
   "cell_type": "markdown",
   "metadata": {},
   "source": [
    "## Data Understanding"
   ]
  },
  {
   "cell_type": "code",
   "execution_count": null,
   "metadata": {
    "id": "bGiGPVYNIoWk"
   },
   "outputs": [],
   "source": [
    "# Ukuran data dan tipe data\n",
    "df_combined.info()"
   ]
  },
  {
   "cell_type": "code",
   "execution_count": null,
   "metadata": {},
   "outputs": [],
   "source": [
    "# Data statistik dasar untuk tiap feature non-kategorikal\n",
    "continuous_features = df_combined.select_dtypes(include=['number']).drop(columns=['id'])\n",
    "continuous_features.describe()"
   ]
  },
  {
   "cell_type": "code",
   "execution_count": null,
   "metadata": {},
   "outputs": [],
   "source": [
    "# Jumlah nilai unik tiap feature kategorikal\n",
    "categorical_features = df_combined.select_dtypes(include=['object'])\n",
    "unique_values_counts = categorical_features.nunique()\n",
    "print(unique_values_counts)"
   ]
  },
  {
   "cell_type": "code",
   "execution_count": null,
   "metadata": {},
   "outputs": [],
   "source": [
    "# Missing values\n",
    "null_values = df_combined.isna().sum()\n",
    "print(null_values)"
   ]
  },
  {
   "cell_type": "code",
   "execution_count": null,
   "metadata": {},
   "outputs": [],
   "source": [
    "# Outlier setiap feature (nonkategorikal)\n",
    "# Menggunakan boxplot\n",
    "\n",
    "plt.figure(figsize=(15, 40))\n",
    "\n",
    "for i, column in enumerate(continuous_features.columns, 1):\n",
    "    plt.subplot(10, 4, i) \n",
    "    sns.boxplot(y=continuous_features[column])\n",
    "    plt.title(column)\n",
    "\n",
    "plt.tight_layout() \n",
    "plt.show()"
   ]
  },
  {
   "cell_type": "code",
   "execution_count": null,
   "metadata": {},
   "outputs": [],
   "source": [
    "# Korelasi antar fitur nonkategorikal\n",
    "corr_matrix = continuous_features.corr()\n",
    "plt.figure(figsize=(24, 16))\n",
    "sns.heatmap(corr_matrix, annot=True, cmap='coolwarm', fmt='.2f', linewidth=0.5)\n",
    "plt.title('Korelasi Fitur Nonkategorikal')\n",
    "plt.xticks(rotation=45, ha='right')\n",
    "plt.show()"
   ]
  },
  {
   "cell_type": "code",
   "execution_count": null,
   "metadata": {},
   "outputs": [],
   "source": [
    "# Korelasi antara fitur kategorikal dengan Cramer\n",
    "def cramers_v(x, y):\n",
    "    contingency = pd.crosstab(x, y)\n",
    "    chi2, p, dof, expected = stats.chi2_contingency(contingency)\n",
    "    n = contingency.sum().sum()\n",
    "    return np.sqrt(chi2 / (n * (min(contingency.shape) - 1)))\n",
    "\n",
    "cramers_matrix = pd.DataFrame(index=categorical_features.columns, columns=categorical_features.columns)\n",
    "\n",
    "for col1 in categorical_features.columns:\n",
    "    for col2 in categorical_features.columns:\n",
    "        cramers_matrix.loc[col1, col2] = cramers_v(df_combined[col1], df_combined[col2])\n",
    "\n",
    "cramers_matrix = cramers_matrix.astype(float)\n",
    "\n",
    "plt.figure(figsize=(12, 8))\n",
    "sns.heatmap(cramers_matrix, annot=True, cmap='coolwarm', fmt='.2f', linewidths=0.5)\n",
    "plt.title('Korelasi Cramér untuk Fitur Kategorikal')\n",
    "plt.show()"
   ]
  },
  {
   "cell_type": "code",
   "execution_count": null,
   "metadata": {},
   "outputs": [],
   "source": [
    "# Visualisasi distribusi fitur nonkategorikal\n",
    "fig, ax = plt.subplots(13, 3, figsize=(15, 15))\n",
    "fig.suptitle('Distribusi Fitur Non-Kategorikal', fontsize=19)\n",
    "\n",
    "for idx in range(39):\n",
    "    i, j = divmod(idx, 3)\n",
    "    ax[i, j].hist(continuous_features[continuous_features.columns[idx]])\n",
    "    ax[i, j].set_title(continuous_features.columns[idx])\n",
    "\n",
    "plt.tight_layout(rect=[0, 0, 1, 0.96])\n",
    "plt.show()"
   ]
  },
  {
   "cell_type": "code",
   "execution_count": null,
   "metadata": {},
   "outputs": [],
   "source": [
    "# Visualisasi distribusi fitur kategorikal (kecuali proto)\n",
    "fig, ax = plt.subplots(1, 3, figsize=(18, 6))\n",
    "fig.suptitle('Distribusi Fitur Kategorikal (selain proto)', fontsize=19)\n",
    "\n",
    "for idx in range(3):\n",
    "    feature = categorical_features.drop('proto', axis=1).columns[idx]\n",
    "    sns.countplot(data=categorical_features, x=feature, ax=ax[idx], order=categorical_features[feature].value_counts().index)\n",
    "    ax[idx].set_title(feature)\n",
    "    ax[idx].tick_params(axis='x', rotation=45)\n",
    "\n",
    "plt.tight_layout(rect=[0, 0, 1, 0.96])\n",
    "plt.show()"
   ]
  },
  {
   "cell_type": "code",
   "execution_count": null,
   "metadata": {},
   "outputs": [],
   "source": [
    "# Visualisasi distribusi fitur kategorikal (khusus proto)\n",
    "plt.figure(figsize=(30, 6))\n",
    "sns.countplot(data=categorical_features, x='proto', order=categorical_features['proto'].value_counts().index)\n",
    "plt.title('Distribusi Protokol (proto)', fontsize=19)\n",
    "plt.xticks(rotation=45, ha='right')\n",
    "plt.xlabel('Protokol')\n",
    "plt.ylabel('Count')\n",
    "plt.tight_layout()\n",
    "plt.show()"
   ]
  },
  {
   "cell_type": "markdown",
   "metadata": {
    "id": "gvx-gT3bLfHM"
   },
   "source": [
    "# 1. Split Training Set and Validation Set\n",
    "\n",
    "Splitting the training and validation set works as an early diagnostic towards the performance of the model we train. This is done before the preprocessing steps to **avoid data leakage inbetween the sets**. If you want to use k-fold cross-validation, split the data later and do the cleaning and preprocessing separately for each split.\n",
    "\n",
    "Note: For training, you should use the data contained in the `train` folder given by the TA. The `test` data is only used for kaggle submission."
   ]
  },
  {
   "cell_type": "code",
   "execution_count": null,
   "metadata": {
    "id": "4yWCUFFBLfHM"
   },
   "outputs": [],
   "source": [
    "# Split training set and validation set here, store into variables train_set and val_set.\n",
    "# Remember to also keep the original training set before splitting. This will come important later.\n",
    "# train_set, val_set = ...\n",
    "\n",
    "# Splitting dilakukan dengan menggunakan train-test split atau hold-out split\n",
    "# Random state 69 karena aestetik kata Chris\n",
    "\n",
    "# train_set, val_set = train_test_split(df_combined, test_size=0.2, random_state=42) \n",
    "\n",
    "# with pd.option_context('display.max_columns', None):\n",
    "#     print(train_set.info())\n"
   ]
  },
  {
   "cell_type": "code",
   "execution_count": null,
   "metadata": {},
   "outputs": [],
   "source": [
    "# Splitting yang dilakukan dengan K-fold validation\n",
    "# X: predictor features, Y: target feature (attack_cat)\n",
    "X = df_combined.drop(columns=['attack_cat'], axis=1)\n",
    "y = df_combined['attack_cat']\n",
    "\n",
    "X_train_array = []\n",
    "X_val_array = []\n",
    "y_train_array = []\n",
    "y_val_array = []\n",
    "\n",
    "kf = KFold(n_splits=5, shuffle=True, random_state=135)\n",
    "for train_index, val_index in kf.split(X):\n",
    "    X_train, X_val = X.iloc[train_index], X.iloc[val_index]\n",
    "    y_train, y_val = y.iloc[train_index], y.iloc[val_index]\n",
    "    \n",
    "    X_train_array.append(X_train)\n",
    "    X_val_array.append(X_val)\n",
    "    y_train_array.append(y_train)\n",
    "    y_val_array.append(y_val)\n",
    "    \n",
    "# X_train_array[0].head()\n",
    "len(X_train_array)"
   ]
  },
  {
   "cell_type": "markdown",
   "metadata": {
    "id": "IC14lmo_LfHN"
   },
   "source": [
    "# 2. Data Cleaning and Preprocessing\n",
    "\n",
    "This step is the first thing to be done once a Data Scientist have grasped a general knowledge of the data. Raw data is **seldom ready for training**, therefore steps need to be taken to clean and format the data for the Machine Learning model to interpret.\n",
    "\n",
    "By performing data cleaning and preprocessing, you ensure that your dataset is ready for model training, leading to more accurate and reliable machine learning results. These steps are essential for transforming raw data into a format that machine learning algorithms can effectively learn from and make predictions.\n",
    "\n",
    "We will give some common methods for you to try, but you only have to **at least implement one method for each process**. For each step that you will do, **please explain the reason why did you do that process. Write it in a markdown cell under the code cell you wrote.**"
   ]
  },
  {
   "cell_type": "markdown",
   "metadata": {
    "id": "p95_A8hSLfHY"
   },
   "source": [
    "## A. Data Cleaning\n",
    "\n",
    "**Data cleaning** is the crucial first step in preparing your dataset for machine learning. Raw data collected from various sources is often messy and may contain errors, missing values, and inconsistencies. Data cleaning involves the following steps:\n",
    "\n",
    "1. **Handling Missing Data:** Identify and address missing values in the dataset. This can include imputing missing values, removing rows or columns with excessive missing data, or using more advanced techniques like interpolation.\n",
    "\n",
    "2. **Dealing with Outliers:** Identify and handle outliers, which are data points significantly different from the rest of the dataset. Outliers can be removed or transformed to improve model performance.\n",
    "\n",
    "3. **Data Validation:** Check for data integrity and consistency. Ensure that data types are correct, categorical variables have consistent labels, and numerical values fall within expected ranges.\n",
    "\n",
    "4. **Removing Duplicates:** Identify and remove duplicate rows, as they can skew the model's training process and evaluation metrics.\n",
    "\n",
    "5. **Feature Engineering**: Create new features or modify existing ones to extract relevant information. This step can involve scaling, normalizing, or encoding features for better model interpretability."
   ]
  },
  {
   "cell_type": "markdown",
   "metadata": {
    "id": "_wruGao9LfHZ"
   },
   "source": [
    "### I. Handling Missing Data\n",
    "\n",
    "Missing data can adversely affect the performance and accuracy of machine learning models. There are several strategies to handle missing data in machine learning:\n",
    "\n",
    "1. **Data Imputation:**\n",
    "\n",
    "    a. **Mean, Median, or Mode Imputation:** For numerical features, you can replace missing values with the mean, median, or mode of the non-missing values in the same feature. This method is simple and often effective when data is missing at random.\n",
    "\n",
    "    b. **Constant Value Imputation:** You can replace missing values with a predefined constant value (e.g., 0) if it makes sense for your dataset and problem.\n",
    "\n",
    "    c. **Imputation Using Predictive Models:** More advanced techniques involve using predictive models to estimate missing values. For example, you can train a regression model to predict missing numerical values or a classification model to predict missing categorical values.\n",
    "\n",
    "2. **Deletion of Missing Data:**\n",
    "\n",
    "    a. **Listwise Deletion:** In cases where the amount of missing data is relatively small, you can simply remove rows with missing values from your dataset. However, this approach can lead to a loss of valuable information.\n",
    "\n",
    "    b. **Column (Feature) Deletion:** If a feature has a large number of missing values and is not critical for your analysis, you can consider removing that feature altogether.\n",
    "\n",
    "3. **Domain-Specific Strategies:**\n",
    "\n",
    "    a. **Domain Knowledge:** In some cases, domain knowledge can guide the imputation process. For example, if you know that missing values are related to a specific condition, you can impute them accordingly.\n",
    "\n",
    "4. **Imputation Libraries:**\n",
    "\n",
    "    a. **Scikit-Learn:** Scikit-Learn provides a `SimpleImputer` class that can handle basic imputation strategies like mean, median, and mode imputation.\n",
    "\n",
    "    b. **Fancyimpute:** Fancyimpute is a Python library that offers more advanced imputation techniques, including matrix factorization, k-nearest neighbors, and deep learning-based methods.\n",
    "\n",
    "The choice of imputation method should be guided by the nature of your data, the amount of missing data, the problem you are trying to solve, and the assumptions you are willing to make."
   ]
  },
  {
   "cell_type": "code",
   "execution_count": null,
   "metadata": {
    "id": "ucZNfCkiLfHZ"
   },
   "outputs": [],
   "source": [
    "# Banyak nilai yang hilang\n",
    "# print(train_set.isna().sum())"
   ]
  },
  {
   "cell_type": "code",
   "execution_count": null,
   "metadata": {},
   "outputs": [],
   "source": [
    "# Cleaning akan dilakukan dengan menggunakan SimpleImputer, dengan median pada data numerical dan most frequent pada data categorical\n",
    "\n",
    "# # Versi train-test split\n",
    "# # Pilih selain yang object, ini buat number \n",
    "# train_set_num = train_set.select_dtypes(include=['number']).drop(columns=['id'])\n",
    "# imputer = SimpleImputer(strategy='median')\n",
    "# imputer.fit(train_set_num)\n",
    "# train_set_num_imputed = imputer.transform(train_set_num)\n",
    "# train_set_num_imputed = pd.DataFrame(train_set_num_imputed, columns=train_set_num.columns)\n",
    "\n",
    "\n",
    "# # Pilih yang categorical (object) \n",
    "# train_set_cat = train_set.select_dtypes(include=['object'])\n",
    "# print(train_set_cat.isna().sum())\n",
    "# imputer = SimpleImputer(strategy='most_frequent')\n",
    "# imputer.fit(train_set_cat)\n",
    "# train_set_cat_imputed = imputer.transform(train_set_cat)\n",
    "# train_set_cat_imputed = pd.DataFrame(train_set_cat_imputed, columns=train_set_cat.columns)\n",
    "# # print(\"Setelah update: \")\n",
    "# # print(train_set_cat_imputed.isna().sum())\n",
    "\n",
    "# Versi K-fold\n",
    "def NumericalImputer(df):\n",
    "    numerical_cols = df.select_dtypes(include=['number']).columns\n",
    "    categorical_cols = df.select_dtypes(exclude=['number']).columns\n",
    "    df_categorical = df[categorical_cols]\n",
    "\n",
    "    imputer = SimpleImputer(strategy='median')\n",
    "    df_numerical = pd.DataFrame(\n",
    "        imputer.fit_transform(df[numerical_cols]), \n",
    "        columns=numerical_cols, \n",
    "        index=df.index\n",
    "    )\n",
    "\n",
    "    df_combined = pd.concat([df_numerical, df_categorical], axis=1)\n",
    "\n",
    "    return df_combined\n",
    "    \n",
    "def CategoricalImputer(df):\n",
    "    numerical_cols = df.select_dtypes(include=['number']).columns\n",
    "    categorical_cols = df.select_dtypes(exclude=['number']).columns\n",
    "    df_numerical = df[numerical_cols]\n",
    "    \n",
    "    imputer = SimpleImputer(strategy='most_frequent')\n",
    "    df_categorical = pd.DataFrame(\n",
    "        imputer.fit_transform(df[categorical_cols]),\n",
    "        columns=categorical_cols,\n",
    "        index=df.index\n",
    "    )\n",
    "\n",
    "    df_combined = pd.concat([df_numerical, df_categorical], axis=1)\n",
    "\n",
    "    return df_combined\n",
    "\n",
    "\n",
    "for i in range (len(X_train_array)):\n",
    "    X_train_array[i] = NumericalImputer(X_train_array[i])\n",
    "    X_train_array[i] = CategoricalImputer(X_train_array[i])\n",
    "\n",
    "    X_val_array[i] = NumericalImputer(X_val_array[i])\n",
    "    X_val_array[i] = CategoricalImputer(X_val_array[i])\n",
    "\n",
    "# X_train_array[0].head()\n",
    "print(X_val_array[0].isna().sum())"
   ]
  },
  {
   "cell_type": "markdown",
   "metadata": {
    "id": "zgrSMcK75VY_"
   },
   "source": [
    "### II. Dealing with Outliers\n",
    "\n",
    "Outliers are data points that significantly differ from the majority of the data. They can be unusually high or low values that do not fit the pattern of the rest of the dataset. Outliers can significantly impact model performance, so it is important to handle them properly.\n",
    "\n",
    "Some methods to handle outliers:\n",
    "1. **Imputation**: Replace with mean, median, or a boundary value.\n",
    "2. **Clipping**: Cap values to upper and lower limits.\n",
    "3. **Transformation**: Use log, square root, or power transformations to reduce their influence.\n",
    "4. **Model-Based**: Use algorithms robust to outliers (e.g., tree-based models, Huber regression)."
   ]
  },
  {
   "cell_type": "code",
   "execution_count": null,
   "metadata": {
    "id": "CgbZ6Lv17Uf0"
   },
   "outputs": [],
   "source": [
    "# Write your code here"
   ]
  },
  {
   "cell_type": "markdown",
   "metadata": {
    "id": "aO0ZEZ-s6Lu-"
   },
   "source": [
    "### III. Remove Duplicates\n",
    "Handling duplicate values is crucial because they can compromise data integrity, leading to inaccurate analysis and insights. Duplicate entries can bias machine learning models, causing overfitting and reducing their ability to generalize to new data. They also inflate the dataset size unnecessarily, increasing computational costs and processing times. Additionally, duplicates can distort statistical measures and lead to inconsistencies, ultimately affecting the reliability of data-driven decisions and reporting. Ensuring data quality by removing duplicates is essential for accurate, efficient, and consistent analysis."
   ]
  },
  {
   "cell_type": "code",
   "execution_count": null,
   "metadata": {
    "id": "BHCkkZ-v7iF8"
   },
   "outputs": [],
   "source": [
    "# Untuk duplicate, akan di drop segala row yang duplicate (untuk train dan validation) melalui pipeline\n",
    "# Hal ini dilakukan untuk menghindari bias\n",
    "# Hanya train set yang diremove duplicatenya\n",
    "\n",
    "def RemoveDuplicate(df):\n",
    "    return df.drop_duplicates()\n",
    "\n",
    "for i in range (len(X_train_array)):\n",
    "    X_train_array[i] = RemoveDuplicate(X_train_array[i])\n",
    "    \n",
    "print(X_train_array[0].isna().sum())\n",
    "X_train_array[0].head()\n"
   ]
  },
  {
   "cell_type": "code",
   "execution_count": null,
   "metadata": {},
   "outputs": [],
   "source": [
    "X_train_array[0]"
   ]
  },
  {
   "cell_type": "markdown",
   "metadata": {
    "id": "eycPASmMLfHa"
   },
   "source": [
    "### IV. Feature Engineering\n",
    "\n",
    "**Feature engineering** involves creating new features (input variables) or transforming existing ones to improve the performance of machine learning models. Feature engineering aims to enhance the model's ability to learn patterns and make accurate predictions from the data. It's often said that \"good features make good models.\"\n",
    "\n",
    "1. **Feature Selection:** Feature engineering can involve selecting the most relevant and informative features from the dataset. Removing irrelevant or redundant features not only simplifies the model but also reduces the risk of overfitting.\n",
    "\n",
    "2. **Creating New Features:** Sometimes, the existing features may not capture the underlying patterns effectively. In such cases, engineers create new features that provide additional information. For example:\n",
    "   \n",
    "   - **Polynomial Features:** Engineers may create new features by taking the square, cube, or other higher-order terms of existing numerical features. This can help capture nonlinear relationships.\n",
    "   \n",
    "   - **Interaction Features:** Interaction features are created by combining two or more existing features. For example, if you have features \"length\" and \"width,\" you can create an \"area\" feature by multiplying them.\n",
    "\n",
    "3. **Binning or Discretization:** Continuous numerical features can be divided into bins or categories. For instance, age values can be grouped into bins like \"child,\" \"adult,\" and \"senior.\"\n",
    "\n",
    "4. **Domain-Specific Feature Engineering:** Depending on the domain and problem, engineers may create domain-specific features. For example, in fraud detection, features related to transaction history and user behavior may be engineered to identify anomalies.\n",
    "\n",
    "Feature engineering is both a creative and iterative process. It requires a deep understanding of the data, domain knowledge, and experimentation to determine which features will enhance the model's predictive power."
   ]
  },
  {
   "cell_type": "code",
   "execution_count": null,
   "metadata": {
    "id": "UoXEV6wkLfHa"
   },
   "outputs": [],
   "source": [
    "# Write your code here"
   ]
  },
  {
   "cell_type": "markdown",
   "metadata": {
    "id": "xw11_49xLfHb"
   },
   "source": [
    "## B. Data Preprocessing\n",
    "\n",
    "**Data preprocessing** is a broader step that encompasses both data cleaning and additional transformations to make the data suitable for machine learning algorithms. Its primary goals are:\n",
    "\n",
    "1. **Feature Scaling:** Ensure that numerical features have similar scales. Common techniques include Min-Max scaling (scaling to a specific range) or standardization (mean-centered, unit variance).\n",
    "\n",
    "2. **Encoding Categorical Variables:** Machine learning models typically work with numerical data, so categorical variables need to be encoded. This can be done using one-hot encoding, label encoding, or more advanced methods like target encoding.\n",
    "\n",
    "3. **Handling Imbalanced Classes:** If dealing with imbalanced classes in a binary classification task, apply techniques such as oversampling, undersampling, or using different evaluation metrics to address class imbalance.\n",
    "\n",
    "4. **Dimensionality Reduction:** Reduce the number of features using techniques like Principal Component Analysis (PCA) or feature selection to simplify the model and potentially improve its performance.\n",
    "\n",
    "5. **Normalization:** Normalize data to achieve a standard distribution. This is particularly important for algorithms that assume normally distributed data."
   ]
  },
  {
   "cell_type": "markdown",
   "metadata": {
    "id": "rVyVnA1hLfHd"
   },
   "source": [
    "### Notes on Preprocessing processes\n",
    "\n",
    "It is advised to create functions or classes that have the same/similar type of inputs and outputs, so you can add, remove, or swap the order of the processes easily. You can implement the functions or classes by yourself\n",
    "\n",
    "or\n",
    "\n",
    "use `sklearn` library. To create a new preprocessing component in `sklearn`, implement a corresponding class that includes:\n",
    "1. Inheritance to `BaseEstimator` and `TransformerMixin`\n",
    "2. The method `fit`\n",
    "3. The method `transform`"
   ]
  },
  {
   "cell_type": "code",
   "execution_count": null,
   "metadata": {
    "id": "WbxHt-5eKz_I"
   },
   "outputs": [],
   "source": [
    "# Example\n",
    "\n",
    "# from sklearn.base import BaseEstimator, TransformerMixin\n",
    "\n",
    "# class FeatureEncoder(BaseEstimator, TransformerMixin):\n",
    "\n",
    "#     def fit(self, X, y=None):\n",
    "\n",
    "#         # Fit the encoder here\n",
    "\n",
    "#         return self\n",
    "\n",
    "#     def transform(self, X):\n",
    "#         X_encoded = X.copy()\n",
    "\n",
    "#         # Encode the categorical variables here\n",
    "\n",
    "#         return X_encoded"
   ]
  },
  {
   "cell_type": "markdown",
   "metadata": {
    "id": "WhCgOl4xLfHb"
   },
   "source": [
    "### I. Feature Scaling\n",
    "\n",
    "**Feature scaling** is a preprocessing technique used in machine learning to standardize the range of independent variables or features of data. The primary goal of feature scaling is to ensure that all features contribute equally to the training process and that machine learning algorithms can work effectively with the data.\n",
    "\n",
    "Here are the main reasons why feature scaling is important:\n",
    "\n",
    "1. **Algorithm Sensitivity:** Many machine learning algorithms are sensitive to the scale of input features. If the scales of features are significantly different, some algorithms may perform poorly or take much longer to converge.\n",
    "\n",
    "2. **Distance-Based Algorithms:** Algorithms that rely on distances or similarities between data points, such as k-nearest neighbors (KNN) and support vector machines (SVM), can be influenced by feature scales. Features with larger scales may dominate the distance calculations.\n",
    "\n",
    "3. **Regularization:** Regularization techniques, like L1 (Lasso) and L2 (Ridge) regularization, add penalty terms based on feature coefficients. Scaling ensures that all features are treated equally in the regularization process.\n",
    "\n",
    "Common methods for feature scaling include:\n",
    "\n",
    "1. **Min-Max Scaling (Normalization):** This method scales features to a specific range, typically [0, 1]. It's done using the following formula:\n",
    "\n",
    "   $$X' = \\frac{X - X_{min}}{X_{max} - X_{min}}$$\n",
    "\n",
    "   - Here, $X$ is the original feature value, $X_{min}$ is the minimum value of the feature, and $X_{max}$ is the maximum value of the feature.  \n",
    "<br />\n",
    "<br />\n",
    "2. **Standardization (Z-score Scaling):** This method scales features to have a mean (average) of 0 and a standard deviation of 1. It's done using the following formula:\n",
    "\n",
    "   $$X' = \\frac{X - \\mu}{\\sigma}$$\n",
    "\n",
    "   - $X$ is the original feature value, $\\mu$ is the mean of the feature, and $\\sigma$ is the standard deviation of the feature.  \n",
    "<br />\n",
    "<br />\n",
    "3. **Robust Scaling:** Robust scaling is a method that scales features to the interquartile range (IQR) and is less affected by outliers. It's calculated as:\n",
    "\n",
    "   $$X' = \\frac{X - Q1}{Q3 - Q1}$$\n",
    "\n",
    "   - $X$ is the original feature value, $Q1$ is the first quartile (25th percentile), and $Q3$ is the third quartile (75th percentile) of the feature.  \n",
    "<br />\n",
    "<br />\n",
    "4. **Log Transformation:** In cases where data is highly skewed or has a heavy-tailed distribution, taking the logarithm of the feature values can help stabilize the variance and improve scaling.\n",
    "\n",
    "The choice of scaling method depends on the characteristics of your data and the requirements of your machine learning algorithm. **Min-max scaling and standardization are the most commonly used techniques and work well for many datasets.**\n",
    "\n",
    "Scaling should be applied separately to each training and test set to prevent data leakage from the test set into the training set. Additionally, **some algorithms may not require feature scaling, particularly tree-based models.**"
   ]
  },
  {
   "cell_type": "code",
   "execution_count": null,
   "metadata": {
    "id": "COef9EbCLfHb"
   },
   "outputs": [],
   "source": []
  },
  {
   "cell_type": "markdown",
   "metadata": {
    "id": "f_Lh-4JwLfHc"
   },
   "source": [
    "### II. Feature Encoding\n",
    "\n",
    "**Feature encoding**, also known as **categorical encoding**, is the process of converting categorical data (non-numeric data) into a numerical format so that it can be used as input for machine learning algorithms. Most machine learning models require numerical data for training and prediction, so feature encoding is a critical step in data preprocessing.\n",
    "\n",
    "Categorical data can take various forms, including:\n",
    "\n",
    "1. **Nominal Data:** Categories with no intrinsic order, like colors or country names.  \n",
    "\n",
    "2. **Ordinal Data:** Categories with a meaningful order but not necessarily equidistant, like education levels (e.g., \"high school,\" \"bachelor's,\" \"master's\").\n",
    "\n",
    "There are several common methods for encoding categorical data:\n",
    "\n",
    "1. **Label Encoding:**\n",
    "\n",
    "   - Label encoding assigns a unique integer to each category in a feature.\n",
    "   - It's suitable for ordinal data where there's a clear order among categories.\n",
    "   - For example, if you have an \"education\" feature with values \"high school,\" \"bachelor's,\" and \"master's,\" you can encode them as 0, 1, and 2, respectively.\n",
    "<br />\n",
    "<br />\n",
    "2. **One-Hot Encoding:**\n",
    "\n",
    "   - One-hot encoding creates a binary (0 or 1) column for each category in a nominal feature.\n",
    "   - It's suitable for nominal data where there's no inherent order among categories.\n",
    "   - Each category becomes a new feature, and the presence (1) or absence (0) of a category is indicated for each row.\n",
    "<br />\n",
    "<br />\n",
    "3. **Target Encoding (Mean Encoding):**\n",
    "\n",
    "   - Target encoding replaces each category with the mean of the target variable for that category.\n",
    "   - It's often used for classification problems."
   ]
  },
  {
   "cell_type": "code",
   "execution_count": null,
   "metadata": {
    "id": "psElSUugLfHc"
   },
   "outputs": [],
   "source": [
    "class FeatureEncoder(BaseEstimator, TransformerMixin):\n",
    "    def __init__(self):\n",
    "        self.encoders = {}\n",
    "\n",
    "    def fit(self, X, y=None):\n",
    "        for col in X.select_dtypes(include=['object', 'category']).columns:\n",
    "            le = LabelEncoder()\n",
    "            le.fit(X[col].astype(str))\n",
    "            self.encoders[col] = le\n",
    "        return self\n",
    "\n",
    "    def transform(self, X):\n",
    "        X_encoded = X.copy()\n",
    "        for col, le in self.encoders.items():\n",
    "            X_encoded[col] = X[col].astype(str).apply(\n",
    "                lambda x: le.transform([x])[0] if x in le.classes_ else -1\n",
    "            )\n",
    "        return X_encoded\n",
    "\n",
    "        \n",
    "        return X_encoded"
   ]
  },
  {
   "cell_type": "markdown",
   "metadata": {
    "id": "jKQO9wtB8Pc0"
   },
   "source": [
    "### III. Handling Imbalanced Dataset\n",
    "\n",
    "**Handling imbalanced datasets** is important because imbalanced data can lead to several issues that negatively impact the performance and reliability of machine learning models. Here are some key reasons:\n",
    "\n",
    "1. **Biased Model Performance**:\n",
    "\n",
    " - Models trained on imbalanced data tend to be biased towards the majority class, leading to poor performance on the minority class. This can result in misleading accuracy metrics.\n",
    "\n",
    "2. **Misleading Accuracy**:\n",
    "\n",
    " - High overall accuracy can be misleading in imbalanced datasets. For example, if 95% of the data belongs to one class, a model that always predicts the majority class will have 95% accuracy but will fail to identify the minority class.\n",
    "\n",
    "3. **Poor Generalization**:\n",
    "\n",
    " - Models trained on imbalanced data may not generalize well to new, unseen data, especially if the minority class is underrepresented.\n",
    "\n",
    "\n",
    "Some methods to handle imbalanced datasets:\n",
    "1. **Resampling Methods**:\n",
    "\n",
    " - Oversampling: Increase the number of instances in the minority class by duplicating or generating synthetic samples (e.g., SMOTE).\n",
    " - Undersampling: Reduce the number of instances in the majority class to balance the dataset.\n",
    "\n",
    "2. **Evaluation Metrics**:\n",
    "\n",
    " - Use appropriate evaluation metrics such as precision, recall, F1-score, ROC-AUC, and confusion matrix instead of accuracy to better assess model performance on imbalanced data.\n",
    "\n",
    "3. **Algorithmic Approaches**:\n",
    "\n",
    " - Use algorithms that are designed to handle imbalanced data, such as decision trees, random forests, or ensemble methods.\n",
    " - Adjust class weights in algorithms to give more importance to the minority class."
   ]
  },
  {
   "cell_type": "code",
   "execution_count": null,
   "metadata": {
    "id": "u2BQd2XJ9W1i"
   },
   "outputs": [],
   "source": [
    "from imblearn.over_sampling import SMOTE\n",
    "from imblearn.under_sampling import RandomUnderSampler\n",
    "from imblearn.pipeline import Pipeline\n",
    "from sklearn.base import BaseEstimator, TransformerMixin\n",
    "\n",
    "class ResampleDataset(BaseEstimator, TransformerMixin):\n",
    "    def __init__(self, desired_count=15000, random_state=42):\n",
    "        self.desired_count = desired_count\n",
    "        self.random_state = random_state\n",
    "        self.smote = SMOTE(sampling_strategy='auto', random_state=self.random_state)\n",
    "        self.undersample = RandomUnderSampler(sampling_strategy='auto', random_state=self.random_state)\n",
    "\n",
    "    def fit(self, X, y=None):\n",
    "        return self\n",
    "\n",
    "    def transform(self, X, y):\n",
    "        \n",
    "        value_counts = y.value_counts()\n",
    "\n",
    "        oversample_strategy = {\n",
    "            label: self.desired_count \n",
    "            for label in value_counts.index \n",
    "            if value_counts[label] < self.desired_count\n",
    "        }\n",
    "\n",
    "        undersample_strategy = {\n",
    "            label: self.desired_count \n",
    "            for label in value_counts.index \n",
    "            if value_counts[label] > self.desired_count\n",
    "        }\n",
    "\n",
    "        smote = SMOTE(sampling_strategy=oversample_strategy, random_state=self.random_state)\n",
    "        undersample = RandomUnderSampler(sampling_strategy=undersample_strategy, random_state=self.random_state)\n",
    "        \n",
    "        X_resampled, y_resampled = smote.fit_resample(X, y)\n",
    "        X_resampled, y_resampled = undersample.fit_resample(X_resampled, y_resampled)\n",
    "\n",
    "        return X_resampled\n",
    "\n",
    "print(y.value_counts())"
   ]
  },
  {
   "cell_type": "code",
   "execution_count": null,
   "metadata": {},
   "outputs": [],
   "source": []
  },
  {
   "cell_type": "markdown",
   "metadata": {
    "id": "fTMSyUzf_-HQ"
   },
   "source": [
    "### IV. Data Normalization\n",
    "\n",
    "Data normalization is used to achieve a standard distribution. Without normalization, models or processes that rely on the assumption of normality may not work correctly. Normalization helps reduce the magnitude effect and ensures numerical stability during optimization."
   ]
  },
  {
   "cell_type": "code",
   "execution_count": null,
   "metadata": {
    "id": "HLOWHftjF1JU"
   },
   "outputs": [],
   "source": [
    "# Write your code here"
   ]
  },
  {
   "cell_type": "markdown",
   "metadata": {
    "id": "MSZPZSntF3Kb"
   },
   "source": [
    "### V. Dimensionality Reduction\n",
    "\n",
    "Dimensionality reduction is a technique used in data preprocessing to reduce the number of input features (dimensions) in a dataset while retaining as much important information as possible. It is essential when dealing with high-dimensional data, where too many features can cause problems like increased computational costs, overfitting, and difficulty in visualization. Reducing dimensions simplifies the data, making it easier to analyze and improving the performance of machine learning models.\n",
    "\n",
    "One of the main approaches to dimensionality reduction is feature extraction. Feature extraction creates new, smaller sets of features that capture the essence of the original data. Common techniques include:\n",
    "\n",
    "1. **Principal Component Analysis (PCA)**: Converts correlated features into a smaller number of uncorrelated \"principal components.\"\n",
    "2. **t-SNE (t-Distributed Stochastic Neighbor Embedding)**: A visualization-focused method to project high-dimensional data into 2D or 3D spaces.\n",
    "3. **Autoencoders**: Neural networks that learn compressed representations of the data."
   ]
  },
  {
   "cell_type": "code",
   "execution_count": null,
   "metadata": {
    "id": "5rksSMAWICY_"
   },
   "outputs": [],
   "source": [
    "# Write your code here\n"
   ]
  },
  {
   "cell_type": "markdown",
   "metadata": {
    "id": "-ctVzt5DLfHd"
   },
   "source": [
    "# 3. Compile Preprocessing Pipeline\n",
    "\n",
    "All of the preprocessing classes or functions defined earlier will be compiled in this step."
   ]
  },
  {
   "cell_type": "markdown",
   "metadata": {
    "id": "S_ZlncSVjJG6"
   },
   "source": [
    "If you use sklearn to create preprocessing classes, you can list your preprocessing classes in the Pipeline object sequentially, and then fit and transform your data."
   ]
  },
  {
   "cell_type": "code",
   "execution_count": null,
   "metadata": {
    "id": "jHraoW_7LfHd"
   },
   "outputs": [],
   "source": [
    "\n",
    "# from sklearn.pipeline import Pipeline\n",
    "\n",
    "# # Note: You can add or delete preprocessing components from this pipeline\n",
    "\n",
    "# pipe = Pipeline([(\"imputer\", FeatureImputer()),\n",
    "#                  (\"featurecreator\", FeatureCreator()),\n",
    "#                  (\"scaler\", FeatureScaler()),\n",
    "#                  (\"encoder\", FeatureEncoder())])\n",
    "\n",
    "# train_set = pipe.fit_transform(train_set)\n",
    "# val_set = pipe.transform(val_set)\n",
    "\n",
    "pipe = Pipeline([\n",
    "    (\"encoder\", FeatureEncoder()),\n",
    "])\n",
    "\n",
    "processed_X_train_array = []\n",
    "processed_X_val_array = []\n",
    "processed_y_train_array = []\n",
    "processed_y_val_array = []\n",
    "\n",
    "for i in range(len(X_train_array)):\n",
    "    processed_X_train = pipe.fit_transform(X_train_array[i])\n",
    "    processed_X_train_array.append(processed_X_train)\n",
    "    processed_X_val = pipe.transform(X_val_array[i])\n",
    "    processed_X_val_array.append(processed_X_val)\n",
    "\n",
    "    # processed_y_train_array.append(y_train_array[i])\n",
    "    # processed_y_val_array.append(y_val_array[i])\n",
    "\n",
    "X_train_array = processed_X_train_array\n",
    "X_val_array = processed_X_val_array\n",
    "# y_train_array = processed_y_train_array\n",
    "# y_val_array = processed_y_val_array\n",
    "\n",
    "# print(X_val_array[0].head())\n"
   ]
  },
  {
   "cell_type": "code",
   "execution_count": null,
   "metadata": {
    "id": "9s56aFFxLfHd"
   },
   "outputs": [],
   "source": [
    "# # Your code should work up until this point\n",
    "# train_set = pipe.fit_transform(train_set)\n",
    "# val_set = pipe.transform(val_set)\n",
    "\n",
    "for i in range(len(X_val_array)):\n",
    "    processed_X_val = pipe.transform(X_val_array[i])\n",
    "    processed_X_val_array.append(processed_X_val)\n",
    "\n",
    "print(X_val_array[0].head())\n",
    "\n",
    "    "
   ]
  },
  {
   "cell_type": "markdown",
   "metadata": {
    "id": "SXoCqMztjhr-"
   },
   "source": [
    "or create your own here"
   ]
  },
  {
   "cell_type": "code",
   "execution_count": null,
   "metadata": {
    "id": "7OoZ3oXEj2CW"
   },
   "outputs": [],
   "source": [
    "# Write your code here"
   ]
  },
  {
   "cell_type": "markdown",
   "metadata": {
    "id": "9A3adbZXLfHe"
   },
   "source": [
    "# 4. Modeling and Validation\n",
    "\n",
    "Modelling is the process of building your own machine learning models to solve specific problems, or in this assignment context, predicting the target feature `attack_cat`. Validation is the process of evaluating your trained model using the validation set or cross-validation method and providing some metrics that can help you decide what to do in the next iteration of development."
   ]
  },
  {
   "cell_type": "markdown",
   "metadata": {
    "id": "ZnhMNbBILfHf"
   },
   "source": [
    "## A. KNN"
   ]
  },
  {
   "cell_type": "code",
   "execution_count": null,
   "metadata": {
    "id": "KV6ICmFmlqjk"
   },
   "outputs": [],
   "source": [
    "# Scikit-learn\n",
    "knn_model = KNeighborsClassifier(n_neighbors=5)\n",
    "\n",
    "for i in range(len(X_train_array)):\n",
    "    knn_model.fit(X_train_array[i], y_train_array[i])\n",
    "    \n",
    "# for i in range(len(X_val_array)):\n",
    "    y_pred = knn_model.predict(X_val_array[i])\n",
    "    accuracy = accuracy_score(y_val_array[i], y_pred)\n",
    "    print(f\"Fold {i+1}: Accuracy = {accuracy:.2f}\")\n",
    "\n",
    "# knn_model.fit(X_train_array[0], y_train_array[0])\n",
    "# y_pred = knn_model.predict(X_val_array[0])\n",
    "# accuracy = accuracy_score(y_val_array[0], y_pred)\n",
    "# print(f\"Fold {1}: Accuracy = {accuracy:.2f}\")\n",
    "\n",
    "len(X_train_array)\n",
    "\n"
   ]
  },
  {
   "cell_type": "code",
   "execution_count": null,
   "metadata": {},
   "outputs": [],
   "source": []
  },
  {
   "cell_type": "markdown",
   "metadata": {
    "id": "nW0bMzkDLfHf"
   },
   "source": [
    "## B. Naive Bayes"
   ]
  },
  {
   "cell_type": "code",
   "execution_count": null,
   "metadata": {
    "id": "C_XwsN_-LfHg"
   },
   "outputs": [],
   "source": [
    "# Type your code here"
   ]
  },
  {
   "cell_type": "markdown",
   "metadata": {
    "id": "TLDtIkPdLfHg"
   },
   "source": [
    "## C. ID3"
   ]
  },
  {
   "cell_type": "code",
   "execution_count": null,
   "metadata": {},
   "outputs": [],
   "source": []
  },
  {
   "cell_type": "code",
   "execution_count": null,
   "metadata": {
    "id": "gZ6_x1LKLfHh"
   },
   "outputs": [],
   "source": [
    "# Write your code here \n",
    "\n",
    "#multiclass \n",
    "import math\n",
    "import numpy as np\n",
    "from typing import List, Dict, Any, Optional\n",
    "\n",
    "\n",
    "\"\"\"\n",
    "Implementasi ID3 multiclass\n",
    "\"\"\"\n",
    "class ID3MultiClass:\n",
    "    def __init__(self, max_depth: Optional[int] = None):\n",
    "        \"\"\"\n",
    "        Inisiasi dari decision tree ID3  \n",
    "        Args:\n",
    "            max_depth (int, optional): Maximum depth of the tree to prevent overfitting\n",
    "        \"\"\"\n",
    "        self.root = None # Root dari decision tree\n",
    "        self.max_depth = max_depth # max_depth kalo diatur\n",
    "        self.feature_names = None # nama dari fitur \n",
    "        self.class_names = None # kelas yang ada\n",
    "    \n",
    "    class Node:\n",
    "        def __init__(self, \n",
    "                     feature_name: Optional[str] = None, \n",
    "                     decision: Optional[str] = None, \n",
    "                     value: Optional[str] = None):\n",
    "            \"\"\"\n",
    "            Inisiasi dari node pada decision tree \n",
    "            Args:\n",
    "                feature_name (str): nama dari fitur\n",
    "                decision (str): Decision yang diambil \n",
    "                value (str): prediksi dari kelas atau value\n",
    "            \"\"\"\n",
    "            self.feature_name = feature_name\n",
    "            self.decision = decision\n",
    "            self.value = value\n",
    "            self.childs: List[ID3MultiClass.Node] = []\n",
    "    \n",
    "    def calculate_multiclass_entropy(self, labels: List[str]) -> float:\n",
    "        \"\"\"\n",
    "        fungsi untuk menghitung entropy dari multi-class classification \n",
    "        persamaan entropy tuh kalo dislide kelas \n",
    "\n",
    "        Entropy(S) = -p1 * log2(p1) - p2 * log2(p2) - ... - pn * log2(pn) (gabisa gambar sigma)\n",
    "\n",
    "        - S: Set of training examples \n",
    "        - c: number of classes -> kalo dari persamaan yang di atas c itu banyak dari n \n",
    "        - p_i: proportion of examples in class c \n",
    "        \n",
    "        Args:\n",
    "            labels (List[str]): List of class labels\n",
    "        \n",
    "        Returns:\n",
    "            float: Entropy value\n",
    "        \"\"\"\n",
    "        # hitung berapa banyak kelas yang ada (C) \n",
    "        label_counts = {}\n",
    "        for label in labels:\n",
    "            label_counts[label] = label_counts.get(label, 0) + 1\n",
    "        \n",
    "        # hitugn Entropy \n",
    "        total = len(labels) # C\n",
    "        entropy = 0 \n",
    "        for count in label_counts.values(): #\n",
    "            prob = count / total #P_i \n",
    "            # Avoid log(0), karena bakalan error lol \n",
    "            if prob > 0:\n",
    "                entropy -= prob * math.log2(prob)\n",
    "        \n",
    "        return entropy\n",
    "    \n",
    "    def information_gain(self, features: List[List[Any]], lables: List[str], feature_idx: int) -> float:\n",
    "        \"\"\"\n",
    "        information gain dari slide tuh \n",
    "        Gain(S, A) = expected reduction of entropy due to sorting A  -> Find A which has a maximum Gain(S, A) \n",
    "        - S: set of training examples \n",
    "        - A: attribute\n",
    "\n",
    "        Gain(S, A) = Entropy(S) - sum(|S_v| / |S| * Entropy(S_v))\n",
    "        Parameter:\n",
    "            features (List[List[Any]]): Feature matrix\n",
    "            lables (List[str]): Target labels\n",
    "            feature_idx (int): Index of the feature to calculate gain for\n",
    "        \n",
    "        Returns:\n",
    "            float: Information gain value\n",
    "        \"\"\"\n",
    "        # Total entropy dari dataset -> Entropy(S) \n",
    "        total_entropy = self.calculate_multiclass_entropy(lables)\n",
    "        \n",
    "        # Grouping berdasarkan features yang ada\n",
    "        # ini tuh bagian dari sum(|S_v| / |S| * Entropy(S_v))\n",
    "        feature_groups = {} \n",
    "        for idx, row in enumerate(features): \n",
    "            feature_val = row[feature_idx]\n",
    "            if feature_val not in feature_groups:\n",
    "                feature_groups[feature_val] = {\n",
    "                    'indices': [], #index\n",
    "                    'labels': [] #label\n",
    "                }\n",
    "            feature_groups[feature_val]['indices'].append(idx)\n",
    "            feature_groups[feature_val]['labels'].append(lables[idx])\n",
    "        \n",
    "        # Hitung dari sum(|S_v| / |S| * Entropy(S_v))\n",
    "        weighted_entropy = 0\n",
    "        for group in feature_groups.values(): #looping tiap group \n",
    "            group_entropy = self.calculate_multiclass_entropy(group['labels'])\n",
    "            weight = len(group['indices']) / len(lables)\n",
    "            weighted_entropy += weight * group_entropy\n",
    "\n",
    "        # hasil dari information gain  \n",
    "        return total_entropy - weighted_entropy\n",
    "    \n",
    "    def most_common_label(self, labels: List[str]) -> str:\n",
    "        \"\"\" Label yang paling sering muncul\n",
    "        Parameter:\n",
    "            labels (List[str]): List of labels\n",
    "        Returns:\n",
    "            str: Most common label\n",
    "        \"\"\"\n",
    "\n",
    "        if len(labels) == 1:\n",
    "            return labels[0]\n",
    "\n",
    "        label_counts = {}\n",
    "        for label in labels:\n",
    "            label_counts[label] = label_counts.get(label, 0) + 1\n",
    "\n",
    "        return max(label_counts, key=label_counts.get)\n",
    "\n",
    "    \n",
    "    def build_tree(\n",
    "            self, \n",
    "            X: List[List[Any]], \n",
    "            y: List[str], \n",
    "            feature_indices: List[int], \n",
    "            depth: int = 0\n",
    "            ) -> 'ID3MultiClass.Node':\n",
    "        \"\"\"\n",
    "        Build the decision tree recursively\n",
    "\n",
    "        Args:\n",
    "            X (List[List[Any]]): Feature matrix\n",
    "            y (List[str]): Target labels\n",
    "            feature_indices (List[int]): Indices of features to consider\n",
    "            depth (int): Current depth of the tree\n",
    "\n",
    "        Returns:\n",
    "            Node: Root of the decision tree (or subtree)\n",
    "        \"\"\"\n",
    "        if len(set(y)) == 1:\n",
    "            node = self.Node(value=y[0])\n",
    "            return node\n",
    "\n",
    "        if len(feature_indices) == 0 or (self.max_depth is not None and depth >= self.max_depth):\n",
    "            node = self.Node(value=self.most_common_label(y))\n",
    "            return node\n",
    "\n",
    "        best_gain = 0\n",
    "        best_feature_idx = None\n",
    "        for idx in feature_indices:\n",
    "            gain = self.information_gain(X, y, idx)\n",
    "            if gain > best_gain:\n",
    "                best_gain = gain\n",
    "                best_feature_idx = idx\n",
    "\n",
    "        if best_feature_idx is None:\n",
    "            node = self.Node(value=self.most_common_label(y))\n",
    "            return node\n",
    "\n",
    "        node = self.Node(feature_name=self.feature_names[best_feature_idx])\n",
    "\n",
    "        feature_values = set(row[best_feature_idx] for row in X)\n",
    "\n",
    "        new_feature_indices = [idx for idx in feature_indices if idx != best_feature_idx]\n",
    "\n",
    "        for value in feature_values:\n",
    "            child_indices = [i for i, row in enumerate(X) if row[best_feature_idx] == value]\n",
    "\n",
    "            if not child_indices:\n",
    "                child_node = self.Node(value=self.most_common_label(y))\n",
    "            else:\n",
    "                child_X = [X[i] for i in child_indices]\n",
    "                child_y = [y[i] for i in child_indices]\n",
    "\n",
    "                child_node = self.build_tree(child_X, child_y, new_feature_indices, depth + 1)\n",
    "\n",
    "            child_node.decision = value\n",
    "            node.childs.append(child_node)\n",
    "\n",
    "        return node\n",
    "\n",
    "    def fit(\n",
    "            self, \n",
    "            data_train_feature: Any, \n",
    "            data_train_label: Any, \n",
    "            ):\n",
    "        \"\"\"\n",
    "        Method untuk train model \n",
    "        Parameter:\n",
    "            train_feature (DataFrame): Feature matrix\n",
    "            train_label (DataFrame): Target labels\n",
    "        \"\"\"\n",
    "        train_feature = data_train_feature.values.tolist()\n",
    "        train_label = data_train_label.values.tolist() \n",
    "        feature_names = data_train_feature.columns.tolist()\n",
    "\n",
    "        if len(train_feature) != len(train_label):\n",
    "            raise ValueError(\"train_feature and train_label must have the same number of samples\")\n",
    "        \n",
    "        self.feature_names = feature_names or [f'Feature_{i}' for i in range(len(train_feature[0]))]\n",
    "        \n",
    "        self.class_names = list(set(train_label))\n",
    "        \n",
    "        feature_indices = list(range(len(feature_names)))\n",
    "        \n",
    "        self.root = self.build_tree(train_feature, train_label, feature_indices)\n",
    "    \n",
    "    def predict(self, test_feature_dataframe: Any) -> List[str]:\n",
    "        \"\"\"\n",
    "        prediksi untuk test_feature\n",
    "        Parameter:\n",
    "            test_feature (List[List[Any]]): Feature matrix to predict\n",
    "        Returns:\n",
    "            List[str]: Predicted labels\n",
    "        \"\"\"\n",
    "\n",
    "        test_feature = test_feature_dataframe.values.tolist()\n",
    "        if self.root is None:\n",
    "            raise ValueError(\"Model not trained. Call fit() first.\")\n",
    "        \n",
    "        predictions = []\n",
    "        for sample in test_feature:\n",
    "            predictions.append(self.predict_sample(sample))\n",
    "        return predictions\n",
    "    \n",
    "    def predict_sample(self, sample: List[Any]) -> str:\n",
    "        \"\"\"\n",
    "        Predict label untuk single sample\n",
    "        Args:\n",
    "            sample (List[Any]): Single sample to predict\n",
    "        Returns:\n",
    "            str: Predicted label\n",
    "        \"\"\"\n",
    "        node = self.root\n",
    "        while node.childs:\n",
    "            feature_idx = self.feature_names.index(node.feature_name)\n",
    "            \n",
    "            matching_child = None\n",
    "            for child in node.childs:\n",
    "                if child.decision == sample[feature_idx]:\n",
    "                    matching_child = child\n",
    "                    break\n",
    "            \n",
    "            if matching_child is None:\n",
    "                child_labels = [child.value for child in node.childs]\n",
    "                \n",
    "                if child_labels:\n",
    "                    return self.most_common_label(child_labels)\n",
    "                \n",
    "                return node.value\n",
    "            \n",
    "            node = matching_child\n",
    "        \n",
    "        return node.value\n",
    "    \n",
    "    def print_tree(self, node: Optional['ID3MultiClass.Node'] = None, indent: str = \"\"):\n",
    "        \"\"\"\n",
    "        print dari structure tree \n",
    "        cara bacanya dari atas ke bawah (refer dari slide kelas)\n",
    "\n",
    "        - Feature: node kalo di slide\n",
    "        - Decision: indices(?) jalur dari node ke node lah kalo di slide \n",
    "        - value: prediksi dari kelas atau value\n",
    "\n",
    "        Parameter:\n",
    "            node (Node, optional): Current node (root by default)\n",
    "            indent (str): Indentation for visualization\n",
    "        \"\"\"\n",
    "        if node is None:\n",
    "            node = self.root\n",
    "        \n",
    "        # Print current node\n",
    "        if node.decision:\n",
    "            print(f\"{indent}Decision: {node.decision}\")\n",
    "        \n",
    "        if node.feature_name:\n",
    "            print(f\"{indent}Feature: {node.feature_name}\")\n",
    "        \n",
    "        if node.value:\n",
    "            print(f\"{indent}Value Classes: {node.value}\")\n",
    "        \n",
    "        # Recursively print children\n",
    "        for child in node.childs:\n",
    "            self.print_tree(child, indent + \"  \")\n",
    "    \n",
    "    \n",
    "    def evaluate(self, X_test: List[str], y_test: List[str]) -> Dict[str, float]:\n",
    "        \"\"\"\n",
    "        Evaluate the model's performance\n",
    "        \n",
    "        Parameter:\n",
    "            X_test (List[Any]): Test feature matrix\n",
    "            y_test (List[str]): True labels for test data\n",
    "        \n",
    "        Returns:\n",
    "            Dict[str, float]: Performance metrics\n",
    "        \"\"\"\n",
    "        y_pred = X_test\n",
    "        \n",
    "        accuracy = sum(1 for true, pred in zip(y_test, y_pred) if true == pred) / len(y_test)\n",
    "        \n",
    "        class_metrics = {}\n",
    "        for class_name in self.class_names:\n",
    "            class_preds = [pred for pred, true in zip(y_pred, y_test) if pred == class_name]\n",
    "            class_true = [true for true in y_test if true == class_name]\n",
    "            \n",
    "            precision = (len([p for p in class_preds if p in class_true]) / len(class_preds)) if class_preds else 0\n",
    "            \n",
    "            recall = (len([p for p in class_true if p in class_preds]) / len(class_true)) if class_true else 0\n",
    "            \n",
    "            class_metrics[class_name] = {\n",
    "                'precision': precision,\n",
    "                'recall': recall\n",
    "            }\n",
    "        \n",
    "        return {\n",
    "            'overall_accuracy': accuracy,\n",
    "            'class_metrics': class_metrics\n",
    "        }\n",
    "\n",
    "\n"
   ]
  },
  {
   "cell_type": "code",
   "execution_count": null,
   "metadata": {},
   "outputs": [],
   "source": [
    "print(X_val_array[0].head(5))"
   ]
  },
  {
   "cell_type": "code",
   "execution_count": null,
   "metadata": {},
   "outputs": [],
   "source": [
    "def changed_to_categorical(df, min_unique_values=5):\n",
    "    import pandas as pd\n",
    "    import numpy as np\n",
    "    \n",
    "    df_categorical = df.copy()\n",
    "    \n",
    "    for column in df_categorical.select_dtypes(include=['int64', 'float64']).columns:\n",
    "        unique_values = df_categorical[column].nunique()\n",
    "\n",
    "        if unique_values < min_unique_values:\n",
    "            continue\n",
    "        elif unique_values >= min_unique_values:\n",
    "            df_categorical[column] = df_categorical[column].astype(float)\n",
    "            \n",
    "            ranges = [\n",
    "                (0, 20),   # 0 < x < 20\n",
    "                (20, 40),  # 20 < x < 40\n",
    "                (40, 60),  # 41 < x < 60\n",
    "                (60, 80),  # 61 < x < 80\n",
    "                (80, 100), # 81 < x < 100\n",
    "            ]\n",
    "            \n",
    "            # Loop over defined ranges\n",
    "            for start, end in ranges:\n",
    "                condition = (df_categorical[column] >= start) & (df_categorical[column] < end)\n",
    "                \n",
    "                if condition.any():  # If there are any values in this range\n",
    "                    median_value = df_categorical[column][condition].mean()\n",
    "                    df_categorical[column] = np.where(condition, median_value, df_categorical[column])\n",
    "\n",
    "    return df_categorical\n",
    "\n",
    "\n",
    "\n",
    "df_categorical = changed_to_categorical(X_train_array[0], min_unique_values=2)\n",
    "\n",
    "# print(df_categorical.isna().sum())\n",
    "print(df_categorical)\n",
    "# Assuming X_train_array is a list of DataFrames\n",
    "# for column in X_train_array[0].columns:\n",
    "#     unique_count = X_train_array[0][column].nunique()  # Count unique values\n",
    "#     print(f\"Unique values count in column '{column}': {unique_count}\")\n",
    "\n"
   ]
  },
  {
   "cell_type": "code",
   "execution_count": null,
   "metadata": {},
   "outputs": [],
   "source": [
    "#skilearn \n",
    "\n",
    "from sklearn.tree import DecisionTreeClassifier\n",
    "from sklearn.metrics import accuracy_score\n",
    "\n",
    "print(\"SKLEARN\")\n",
    "def main_sklearn():\n",
    "    dt = DecisionTreeClassifier(max_depth=5)\n",
    "    for i in range(len(X_train_array)):\n",
    "        dt.fit(changed_to_categorical(X_train_array[i].head(1000)), y_train_array[i].head(1000))\n",
    "        y_pred = dt.predict(changed_to_categorical(X_val_array[i].head(100)))\n",
    "        accuracy = accuracy_score(y_val_array[i].head(100), y_pred)\n",
    "        print(f\"Fold {i+1}: Accuracy = {accuracy:.2f}\")\n",
    "main_sklearn()\n",
    "\n",
    "\n",
    "def filter_columns_and_values(df, exclude_items=[]):\n",
    "    filtered_df = df.drop(columns=[col for col in df.columns if col in exclude_items], errors=\"ignore\")\n",
    "    return filtered_df\n",
    "\n",
    "def keep_columns_and_values(df, columns_to_keep):\n",
    "    filtered_df = df[columns_to_keep]\n",
    "    return filtered_df\n",
    "\n",
    "    \n",
    "# # kalo mau ngefilter\n",
    "# #buat bagian data train\n",
    "# filtered_df_train = keep_columns_and_values(X_train_array[0], ['proto', 'dbytes', 'sttl', 'dttl', 'smean'])\n",
    "# filtered_exclude_df_train = filter_columns_and_values(X_train_array[0], ['id'])\n",
    "\n",
    "# #buat bagian testnya\n",
    "# filtered_df_test = keep_columns_and_values(X_val_array[0], ['proto', 'dbytes', 'sttl', 'dttl', 'smean'])\n",
    "# filtered_exclude_df_test = filter_columns_and_values(X_val_array[0], ['id'])\n",
    "\n",
    "\n",
    "\n",
    "print()\n",
    "print(\"OUR IMPLEMENTATION\")\n",
    "print(\"Model Evaluation:\")\n",
    "def main_dataset(): \n",
    "    dt = ID3MultiClass(max_depth=len(X_train_array[0].columns.tolist()))\n",
    "    for i in range(len(X_train_array)): \n",
    "        dt.fit(changed_to_categorical(X_train_array[i].head(10000)), y_train_array[i].head(10000))\n",
    "\n",
    "        # Print tree structure (debug)\n",
    "        # print(\"Decision Tree Structure:\")\n",
    "        # dt.print_tree()\n",
    "\n",
    "    # Make predictions\n",
    "        test_samples = changed_to_categorical(X_train_array[i].head(100))\n",
    "        predictions = dt.predict(test_samples)\n",
    "        # print(\"\\nPredictions:\", predictions)\n",
    "\n",
    "        X_test = predictions\n",
    "        y_test = y_val_array[i].head(100).values.tolist()\n",
    "\n",
    "        evaluation = dt.evaluate(X_test, y_test)\n",
    "\n",
    "        \n",
    "        # print(\"\\nActual data: \", y_test)\n",
    "        print(f\"Fold {i+1} Overall Accuracy: {evaluation['overall_accuracy']:.2f}\")\n",
    "    \n",
    "    \n",
    "main_dataset()\n",
    "\n"
   ]
  },
  {
   "cell_type": "markdown",
   "metadata": {
    "id": "LoH2u6fOLfHh"
   },
   "source": [
    "## D. Improvements (Optional)\n",
    "\n",
    "- **Visualize the model evaluation result**\n",
    "\n",
    "This will help you to understand the details more clearly about your model's performance. From the visualization, you can see clearly if your model is leaning towards a class than the others. (Hint: confusion matrix, ROC-AUC curve, etc.)\n",
    "\n",
    "- **Explore the hyperparameters of your models**\n",
    "\n",
    "Each models have their own hyperparameters. And each of the hyperparameter have different effects on the model behaviour. You can optimize the model performance by finding the good set of hyperparameters through a process called **hyperparameter tuning**. (Hint: Grid search, random search, bayesian optimization)\n",
    "\n",
    "- **Cross-validation**\n",
    "\n",
    "Cross-validation is a critical technique in machine learning and data science for evaluating and validating the performance of predictive models. It provides a more **robust** and **reliable** evaluation method compared to a hold-out (single train-test set) validation. Though, it requires more time and computing power because of how cross-validation works. (Hint: k-fold cross-validation, stratified k-fold cross-validation, etc.)"
   ]
  },
  {
   "cell_type": "code",
   "execution_count": null,
   "metadata": {
    "id": "pg-A54yELfHh"
   },
   "outputs": [],
   "source": [
    "# Type your code here"
   ]
  },
  {
   "cell_type": "markdown",
   "metadata": {
    "id": "Li4l53DjLfHh"
   },
   "source": [
    "## E. Submission\n",
    "To predict the test set target feature and submit the results to the kaggle competition platform, do the following:\n",
    "1. Create a new pipeline instance identical to the first in Data Preprocessing\n",
    "2. With the pipeline, apply `fit_transform` to the original training set before splitting, then only apply `transform` to the test set.\n",
    "3. Retrain the model on the preprocessed training set\n",
    "4. Predict the test set\n",
    "5. Make sure the submission contains the `id` and `attack_cat` column."
   ]
  },
  {
   "cell_type": "code",
   "execution_count": null,
   "metadata": {
    "id": "LeqnfWc-LfHi"
   },
   "outputs": [],
   "source": [
    "# Membuat pipeline submission\n",
    "\n",
    "submission_pipe = Pipeline([\n",
    "    (\"encoder\", FeatureEncoder())\n",
    "])\n",
    "\n",
    "# Cleaning\n",
    "# Cleaning training set\n",
    "\n",
    "\n",
    "# Preprocessing\n"
   ]
  }
 ],
 "metadata": {
  "colab": {
   "provenance": [],
   "toc_visible": true
  },
  "kernelspec": {
   "display_name": "Python 3",
   "language": "python",
   "name": "python3"
  },
  "language_info": {
   "codemirror_mode": {
    "name": "ipython",
    "version": 3
   },
   "file_extension": ".py",
   "mimetype": "text/x-python",
   "name": "python",
   "nbconvert_exporter": "python",
   "pygments_lexer": "ipython3",
   "version": "3.12.4"
  }
 },
 "nbformat": 4,
 "nbformat_minor": 0
}
